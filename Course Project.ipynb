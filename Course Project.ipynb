{
 "cells": [
  {
   "cell_type": "markdown",
   "id": "6aa176f0-90ff-44cc-937b-8c19aa02a5fb",
   "metadata": {},
   "source": [
    "# Course Project: Handwritten Greek Letter Classification\n",
    "## Project Due: Wednesday, April 23, 2025, 11:59 PM\n",
    "## Group Size: 2-3 individuals\n",
    "## Final Materials Due: final report and code implementation"
   ]
  },
  {
   "cell_type": "markdown",
   "id": "3396d17e-b68c-4c43-b7f0-587ad6956186",
   "metadata": {},
   "source": [
    "### Description\n",
    "\n",
    "In the final project, you will develop a machine learning system to classify\n",
    "handwritten (lowercase) greek letters. The data set is to be collected by all students\n",
    "enrolled in this course. You can implement this system yourselves or using\n",
    "a package/library. You can use any packages that come as a default option\n",
    "with Anaconda or PyTorch. We need to be able to run your implementation on\n",
    "our machines. So, be sure to get approval from me for any special packages!\n",
    "If we cannot run the code, you will lose a significant number of points."
   ]
  },
  {
   "cell_type": "markdown",
   "id": "fe3c6aa9-9f51-4d11-a559-5fbc61d9640c",
   "metadata": {},
   "source": [
    "### Data Set\n",
    "\n",
    "Each student will collect part of the training set that everyone will use to\n",
    "train their machine learning models. There’s a total of 10 greek letters (10 classes). The table below shows the integer encoding we will use for all\n",
    "10 classes. Each individual will collect 10 images for each\n",
    "greek letter, giving a total of 100 images per student.\n",
    "\n",
    "| Letter | Label | Integer Encoding |\n",
    "| :-: | --- | :-: |\n",
    "| $\\alpha$ | alpha | 0 |\n",
    "| $\\beta$ | beta | 1 |\n",
    "| $\\gamma$ |gamma | 2 |\n",
    "| $\\delta$ | delta | 3 |\n",
    "| $\\epsilon$ | epsilon | 4 |\n",
    "| $\\eta$ | eta | 5 |\n",
    "| $\\theta$ | theta | 6 |\n",
    "| $\\lambda$ | lambda | 7 |\n",
    "| $\\mu$ | mu | 8 |\n",
    "| $\\pi$ | pi | 9 |\n",
    "\n",
    "These images will be edited to a standard size and format using a process detailed in the Data Collection assignment. The easy test set will consist of data from these 10 classes and be used to evaluate everyone's models. The hard test set will also include samples not from any of these classes, to be classified with the integer label -1. Graduate students will be evaluated on both the easy and hard test sets, while undergraduates who choose to be evaluated on the hard test set in addition to the easy test set may receive extra credit."
   ]
  },
  {
   "cell_type": "markdown",
   "id": "917daf87-b4b2-45ed-925b-175c1cc2abe2",
   "metadata": {},
   "source": [
    "## Project Report\n",
    "\n",
    "Each group will submit a report that includes the sections listed below. The report should follow the IEEE transactions format (single space, double column). You can find a Word or LaTeX template for the IEEE transactions format at [https://www.ieee.org/conferences/publishing/templates.html](https://www.ieee.org/conferences/publishing/templates.html)\n",
    "\n",
    "The report should focus on training and validation/testing strategies for the contest and any unique elements of your implementation(s). The maximum number of pages for the report is 4. Any pages beyond 4 will not be read nor graded. The report should be written with correct English grammar and spelling, and be precise. Equations and/or pseudo-code can be used for precise explanations.\n",
    "\n",
    "The following sections must be included for full credit:\n",
    "\n",
    "* **Abstract** : A summary description of the contents of the report and your findings.\n",
    "  \n",
    "* **Introduction** : Overview of your experiment/s and a literature review.\n",
    "For the literature review, include any references to any relevant papers\n",
    "for your experiment/s. So, whatever you decide to do, search the ACM\n",
    "and IEEE (or other) literature for relevant papers to read and refer\n",
    "to.\n",
    "\n",
    "* **Implementation** : Describe and outline any specific implementation\n",
    "details for your project. A reader should be able to recreate your im-\n",
    "plementation and experiments from your project report. Be sure to describe the methodology with respect to how you will identify unknown classes that were not in the training data (if you are a graduate group or undergraduates going for extra credit).\n",
    "\n",
    "* **Experiments** : Carefully describe your experiments with the training\n",
    "data set and any data augmentation set you constructed or procured from existing data sets. Include a description for the goal of each experiment and\n",
    "experimental findings. This is the bulk of what you will be graded on\n",
    "- if your experimental design is not sound or your experiments do not\n",
    "make sense, you will lose points.\n",
    "\n",
    "* **Conclusions** : Describe any conclusions or things you learned from the\n",
    "project. Your conclusions must follow from what you did. Do not copy\n",
    "something out of a paper or say something that has no experimental\n",
    "support in the Experiments section.\n",
    "\n",
    "* **References** : List of all references in IEEE bibliography format.\n",
    "\n",
    "For writing the report, it is recommended that you use [Google Docs](https://docs.google.com/) through your UFL account (if you wish to use a Word document) or [Overleaf](https://www.overleaf.com/) (if you wish to use LaTeX - association with a UFL e-mail will give you a premium account). Both options will allow multiple team members to work on the report at once, and let you export a PDF."
   ]
  },
  {
   "cell_type": "markdown",
   "id": "dd2eb58c-92a9-4d5f-9709-8da25688b76c",
   "metadata": {},
   "source": [
    "## Project Code Implementation\n",
    "\n",
    "You can use any packages that come as a default option with Anaconda or\n",
    "PyTorch. We need to be able to run your implementation on our machines. So,\n",
    "be sure to get approval from me for any special packages! If we cannot run\n",
    "the code, you will lose a significant number of points.\n",
    "You can implement your algorithm using Jupyter Notebook or your favorite integrated development environment (IDE). Your final code submission should contain (at least) 3 files:\n",
    "\n",
    "* **README.txt** : an explanation of your code including anything necessary to properly run it, e.g., packages used, inputs, and outputs.\n",
    "* **train.py or a Notebook** with a function \"train\" defined : This function should contain the code used to train your final model\n",
    "* **test.py or a Notebook** with a function \"test\" defined : This function should receive data and labels in the same format as the training data and output an accuracy value and predicted labels.\n",
    "* **If you are going to be evaluated on the hard test set,** you may create a separate file (test_hard.py) with a function defined for testing on the hard test set \"test_hard\", or include such a function in test.py. This function should also receive data and labels in the same format as the training data and output an accuracy value and the predicted labels."
   ]
  },
  {
   "cell_type": "markdown",
   "id": "aaf5db04-7311-4a56-ad63-ab1197b0bac3",
   "metadata": {},
   "source": [
    "## Grading Details\n",
    "\n",
    "Your grade (out of 300 points) will be determined using the following rubric\n",
    "\n",
    "* **(5 pts) Project Group Formation** : You have formed a project group meeting the group requirements by the deadline\n",
    "\n",
    "* **(25 pts) Project Data Collection** : You have submitted the appropriate amount of properly formatted data (individually graded)\n",
    "\n",
    "* **(75 pts) Project Code Implementation** : You have turned in code that runs correctly and easily on our machines. This requires a very clear README and easy to modify parameter settings. This also requires clearly listing what packages/libraries are needed to run your code - and checking with me before the due date to ensure we have those libraries. The code should meet any other submission requirements listed in this document or in the Project Code assignment.\n",
    "\n",
    "* **(75 pts) Accuracy on Test Data Set(s)** :\n",
    "\n",
    "    * **(EEL 4773)** Full points on this component will be obtained if you correctly classify 90% of the easy test data or have a classification accuracy rate greater than the average classification accuracy rate of the undergraduate class (whichever is lower).\n",
    "    *  **(EEL 5840)** Full points on this component will be obtained if you correctly classify 90% of the easy and hard test data or have a classification accuracy rate greater than the average classification accuracy rate of the graduate class (whichever is lower).\n",
    "    *  **(Both)** Your code should produce the integer-coding label encoding defined in the table in the Data Set section.\n",
    "\n",
    "* **(120 pts) Project Report** This component will be graded based on the requirements listed in this document and any other requirements in the Project Report assignment."
   ]
  },
  {
   "cell_type": "markdown",
   "id": "14f8b3e9-4f05-4496-b8e6-c272ccd369d3",
   "metadata": {},
   "source": [
    "## Extra Credit\n",
    "\n",
    "The goal of this project is to implement an end-to-end system to perform\n",
    "handwritten math symbols classification. The teams with the best classification accuracy on the hard data set in each class (EEL 4773 and EEL 5840) will earn extra credit. The hard data set will have all 10 classes (labels 0, 1, 2, 3, 4, 5, 6, 7, 8, 9) and class unknown (label -1). There will be test data points from classes that do not appear in the training data. So, you will want to come up with a way to identify when a test point class is “unknown” or was not in the training data. The label you should return for this case is -1. Please have your test function output a class label that matches the class value in the provided training data. These should be: 0, 1, 2, 3, 4, 5, 6, 7, 8, 9 and -1."
   ]
  },
  {
   "cell_type": "markdown",
   "id": "7bfa4791-b674-4a67-8f1d-64e225fa24e6",
   "metadata": {},
   "source": [
    "## Submission Details\n",
    "\n",
    "Turn in your project report and your code to the relevant assignments by Wednesday, April 23 at 11:59 PM.\n",
    "\n",
    "Again, be sure you include the following files:\n",
    "* A PDF of your group's project report\n",
    "* train.py or a Notebook which includes a function \"train\" that will run your training code on an input data set X and desired output vector T. Any parameter settings must be easy to find and modify.\n",
    "* test.py or a Notebook which includes a function \"test\" that will run your testing code on an input data set X. Note: Your test.py code should already be trained and have parameters set! Any parameter settings must be easy to find and modify. It should return a vector with the class label associated with each input data point in X\n",
    "* A concise README.txt file that clearly illustrates how to properly run your code. As your classification accuracy on a small test data set will\n",
    "factor into your project grade, if we cannot run the code, the accuracy is 0."
   ]
  }
 ],
 "metadata": {
  "kernelspec": {
   "display_name": "Python 3 (ipykernel)",
   "language": "python",
   "name": "python3"
  },
  "language_info": {
   "codemirror_mode": {
    "name": "ipython",
    "version": 3
   },
   "file_extension": ".py",
   "mimetype": "text/x-python",
   "name": "python",
   "nbconvert_exporter": "python",
   "pygments_lexer": "ipython3",
   "version": "3.12.8"
  }
 },
 "nbformat": 4,
 "nbformat_minor": 5
}
